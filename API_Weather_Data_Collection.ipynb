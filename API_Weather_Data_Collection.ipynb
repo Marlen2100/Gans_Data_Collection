{
 "cells": [
  {
   "cell_type": "code",
   "execution_count": 42,
   "id": "84a90672",
   "metadata": {},
   "outputs": [],
   "source": [
    "import pandas as pd\n",
    "import requests\n",
    "from datetime import datetime"
   ]
  },
  {
   "cell_type": "code",
   "execution_count": 43,
   "id": "8fb51352",
   "metadata": {},
   "outputs": [
    {
     "data": {
      "text/plain": [
       "<Response [200]>"
      ]
     },
     "execution_count": 43,
     "metadata": {},
     "output_type": "execute_result"
    }
   ],
   "source": [
    "code = requests.get(\"https://openweathermap.org\")\n",
    "code"
   ]
  },
  {
   "cell_type": "code",
   "execution_count": null,
   "id": "94e7a620",
   "metadata": {},
   "outputs": [
    {
     "data": {
      "text/plain": [
       "<Response [200]>"
      ]
     },
     "execution_count": 44,
     "metadata": {},
     "output_type": "execute_result"
    }
   ],
   "source": [
    "lat = -33.9249\n",
    "lon = 18.4241\n",
    "API_key = \"YOUR_API_KEY\"\n",
    "\n",
    "api_url = f'https://api.openweathermap.org/data/2.5/forecast?lat={lat}&lon={lon}&appid={API_key}&units=metric'\n",
    "\n",
    "response = requests.get(api_url)\n",
    "response"
   ]
  },
  {
   "cell_type": "code",
   "execution_count": null,
   "id": "93a2f64e",
   "metadata": {},
   "outputs": [],
   "source": [
    "# Be able to read all the citys available in the database\n",
    "# Get the API response depending on the choosen City from the Database\n",
    "# Format the response into a readable dataframe\n",
    "# read the new weather data back into sql"
   ]
  },
  {
   "cell_type": "markdown",
   "id": "84850a3f",
   "metadata": {},
   "source": [
    "# Reading the available cities into a Dataframe"
   ]
  },
  {
   "cell_type": "code",
   "execution_count": null,
   "id": "93bbd425",
   "metadata": {},
   "outputs": [],
   "source": [
    "schema = \"cities_database\"\n",
    "host = \"localhost\"\n",
    "user = \"root\"\n",
    "password = \"YOUR PASSWORD\"\n",
    "port = 3306\n",
    "\n",
    "connection_string = f'mysql+pymysql://{user}:{password}@{host}:{port}/{schema}'"
   ]
  },
  {
   "cell_type": "code",
   "execution_count": 46,
   "id": "0cef5888",
   "metadata": {},
   "outputs": [],
   "source": [
    "cities_from_sql = pd.read_sql(\"city\", con=connection_string)\n",
    "city_df = cities_from_sql[[\"city_id\", \"city_name\", \"latitude\", \"longitude\", \"timezone\"]]"
   ]
  },
  {
   "cell_type": "markdown",
   "id": "a1f115bd",
   "metadata": {},
   "source": [
    "## Making a function to get necessary data"
   ]
  },
  {
   "cell_type": "code",
   "execution_count": 47,
   "id": "4b883054",
   "metadata": {},
   "outputs": [],
   "source": [
    "def Get_City(cityName):\n",
    "    return(city_df.loc[city_df[\"city_name\"] == cityName, [\"city_name\", \"latitude\", \"longitude\", \"city_id\"]])"
   ]
  },
  {
   "cell_type": "code",
   "execution_count": 48,
   "id": "9542cdc1",
   "metadata": {},
   "outputs": [
    {
     "data": {
      "text/plain": [
       "'Berlin'"
      ]
     },
     "execution_count": 48,
     "metadata": {},
     "output_type": "execute_result"
    }
   ],
   "source": [
    "var = Get_City(\"Berlin\")\n",
    "var[\"city_name\"][0]"
   ]
  },
  {
   "cell_type": "code",
   "execution_count": 49,
   "id": "01a7470d",
   "metadata": {},
   "outputs": [
    {
     "data": {
      "text/plain": [
       "0             Berlin\n",
       "1            Hamburg\n",
       "2              Paris\n",
       "3          Stockholm\n",
       "4              Tokyo\n",
       "5               Rome\n",
       "6             Vienna\n",
       "7          Innsbruck\n",
       "8          Cape Town\n",
       "9    Aix-en-Provence\n",
       "Name: city_name, dtype: object"
      ]
     },
     "execution_count": 49,
     "metadata": {},
     "output_type": "execute_result"
    }
   ],
   "source": [
    "city_df[\"city_name\"]"
   ]
  },
  {
   "cell_type": "code",
   "execution_count": 50,
   "id": "e16f29e5",
   "metadata": {},
   "outputs": [
    {
     "name": "stdout",
     "output_type": "stream",
     "text": [
      "This City is in the database.\n"
     ]
    }
   ],
   "source": [
    "if(city_df[\"city_name\"].eq(\"Paris\").any()):\n",
    "        print(\"This City is in the database.\")"
   ]
  },
  {
   "cell_type": "markdown",
   "id": "41d7749a",
   "metadata": {},
   "source": [
    "# Getting the weather Data depending on the city"
   ]
  },
  {
   "cell_type": "code",
   "execution_count": null,
   "id": "896bfdbe",
   "metadata": {},
   "outputs": [],
   "source": [
    "def Get_City_Weather(cityName):\n",
    "    if(cityName not in city_df[\"city_name\"].to_list()):\n",
    "        print(\"This City is not in the database.\")\n",
    "    else:\n",
    "        city_info = Get_City(cityName)\n",
    "        lat = city_info[\"latitude\"].iloc[0]\n",
    "        lon = city_info[\"longitude\"].iloc[0]\n",
    "        API_key = \"YOUR OWN API_KEY\"\n",
    "\n",
    "        api_url = f'https://api.openweathermap.org/data/2.5/forecast?lat={lat}&lon={lon}&appid={API_key}&units=metric'\n",
    "\n",
    "        response = requests.get(api_url)\n",
    "        return(response)\n"
   ]
  },
  {
   "cell_type": "code",
   "execution_count": 52,
   "id": "febc4c14",
   "metadata": {},
   "outputs": [
    {
     "data": {
      "text/plain": [
       "<Response [200]>"
      ]
     },
     "execution_count": 52,
     "metadata": {},
     "output_type": "execute_result"
    }
   ],
   "source": [
    "weather_info = Get_City_Weather(\"Berlin\")\n",
    "weather_info"
   ]
  },
  {
   "cell_type": "markdown",
   "id": "ba7cb807",
   "metadata": {},
   "source": [
    "# Make a DataFrame for the Weather"
   ]
  },
  {
   "cell_type": "code",
   "execution_count": 70,
   "id": "8ca995a1",
   "metadata": {},
   "outputs": [],
   "source": [
    "weather_dict = {\n",
    "    \"city_id\": [],\n",
    "    \"start_time\": [],\n",
    "    \"temperature\": [],\n",
    "    \"humidity\": [],\n",
    "    \"rain\": [],\n",
    "    \"snow\": [],\n",
    "    \"wind_speed\": [],\n",
    "    \"time_retrieved\": []\n",
    "}"
   ]
  },
  {
   "cell_type": "code",
   "execution_count": 54,
   "id": "ec4304da",
   "metadata": {},
   "outputs": [],
   "source": [
    "weather_info = Get_City_Weather(\"Berlin\")\n",
    "weather_info_json = weather_info.json()"
   ]
  },
  {
   "cell_type": "markdown",
   "id": "0b8cd86d",
   "metadata": {},
   "source": [
    "Here you can see that one needs to use iloc as the index is also called with this function"
   ]
  },
  {
   "cell_type": "code",
   "execution_count": 56,
   "id": "4ef096b3",
   "metadata": {},
   "outputs": [
    {
     "data": {
      "text/html": [
       "<div>\n",
       "<style scoped>\n",
       "    .dataframe tbody tr th:only-of-type {\n",
       "        vertical-align: middle;\n",
       "    }\n",
       "\n",
       "    .dataframe tbody tr th {\n",
       "        vertical-align: top;\n",
       "    }\n",
       "\n",
       "    .dataframe thead th {\n",
       "        text-align: right;\n",
       "    }\n",
       "</style>\n",
       "<table border=\"1\" class=\"dataframe\">\n",
       "  <thead>\n",
       "    <tr style=\"text-align: right;\">\n",
       "      <th></th>\n",
       "      <th>city_name</th>\n",
       "      <th>latitude</th>\n",
       "      <th>longitude</th>\n",
       "      <th>city_id</th>\n",
       "    </tr>\n",
       "  </thead>\n",
       "  <tbody>\n",
       "    <tr>\n",
       "      <th>1</th>\n",
       "      <td>Hamburg</td>\n",
       "      <td>53.55</td>\n",
       "      <td>10.0</td>\n",
       "      <td>2</td>\n",
       "    </tr>\n",
       "  </tbody>\n",
       "</table>\n",
       "</div>"
      ],
      "text/plain": [
       "  city_name  latitude  longitude  city_id\n",
       "1   Hamburg     53.55       10.0        2"
      ]
     },
     "execution_count": 56,
     "metadata": {},
     "output_type": "execute_result"
    }
   ],
   "source": [
    "Get_City(\"Hamburg\")"
   ]
  },
  {
   "cell_type": "code",
   "execution_count": null,
   "id": "96c3483c",
   "metadata": {},
   "outputs": [],
   "source": [
    "for city in city_df[\"city_name\"]:\n",
    "\n",
    "    weather_info = Get_City_Weather(city)\n",
    "    weather_info_json = weather_info.json()\n",
    "\n",
    "    for time_slot in weather_info_json[\"list\"]:\n",
    "\n",
    "            current_City = Get_City(city)\n",
    "            weather_dict[\"city_id\"].append(current_City[\"city_id\"].iloc[0])\n",
    "            weather_dict[\"start_time\"].append(time_slot[\"dt_txt\"])\n",
    "            weather_dict[\"temperature\"].append(time_slot[\"main\"][\"temp\"])\n",
    "            weather_dict[\"humidity\"].append(time_slot[\"main\"][\"humidity\"])\n",
    "\n",
    "            try:\n",
    "                weather_dict[\"rain\"].append(time_slot[\"snow\"][\"3h\"])\n",
    "            except KeyError:\n",
    "                weather_dict[\"rain\"].append(None)\n",
    "\n",
    "            try:\n",
    "                weather_dict[\"snow\"].append(time_slot[\"snow\"][\"3h\"])\n",
    "            except KeyError:\n",
    "                weather_dict[\"snow\"].append(None)\n",
    "\n",
    "            weather_dict[\"wind_speed\"].append(time_slot[\"wind\"][\"speed\"])\n",
    "            weather_dict[\"time_retrieved\"].append(datetime.now())\n",
    "            "
   ]
  },
  {
   "cell_type": "markdown",
   "id": "9cb689ee",
   "metadata": {},
   "source": [
    "Its all the same length"
   ]
  },
  {
   "cell_type": "code",
   "execution_count": 75,
   "id": "e0f2311e",
   "metadata": {},
   "outputs": [
    {
     "name": "stdout",
     "output_type": "stream",
     "text": [
      "400\n",
      "400\n"
     ]
    }
   ],
   "source": [
    "print(len(weather_dict[\"city_id\"]))\n",
    "print(len(weather_dict[\"humidity\"]))"
   ]
  },
  {
   "cell_type": "code",
   "execution_count": 76,
   "id": "2bd55831",
   "metadata": {},
   "outputs": [],
   "source": [
    "weather_df = pd.DataFrame(weather_dict)"
   ]
  },
  {
   "cell_type": "markdown",
   "id": "f355e64b",
   "metadata": {},
   "source": [
    "# Send the aquired Data back to SQL"
   ]
  },
  {
   "cell_type": "code",
   "execution_count": 82,
   "id": "d0fac2f5",
   "metadata": {},
   "outputs": [
    {
     "name": "stdout",
     "output_type": "stream",
     "text": [
      "<class 'pandas.core.frame.DataFrame'>\n",
      "RangeIndex: 400 entries, 0 to 399\n",
      "Data columns (total 8 columns):\n",
      " #   Column          Non-Null Count  Dtype         \n",
      "---  ------          --------------  -----         \n",
      " 0   city_id         400 non-null    int64         \n",
      " 1   start_time      400 non-null    datetime64[ns]\n",
      " 2   temperature     400 non-null    float64       \n",
      " 3   humidity        400 non-null    int64         \n",
      " 4   rain            0 non-null      object        \n",
      " 5   snow            0 non-null      object        \n",
      " 6   wind_speed      400 non-null    float64       \n",
      " 7   time_retrieved  400 non-null    datetime64[ns]\n",
      "dtypes: datetime64[ns](2), float64(2), int64(2), object(2)\n",
      "memory usage: 25.1+ KB\n"
     ]
    }
   ],
   "source": [
    "weather_df.info()"
   ]
  },
  {
   "cell_type": "markdown",
   "id": "3b992952",
   "metadata": {},
   "source": [
    "Don't forget to convert your columns to the right format for your database"
   ]
  },
  {
   "cell_type": "code",
   "execution_count": 83,
   "id": "0b77372e",
   "metadata": {},
   "outputs": [],
   "source": [
    "weather_df[\"start_time\"] = pd.to_datetime(weather_df[\"start_time\"])"
   ]
  },
  {
   "cell_type": "code",
   "execution_count": 87,
   "id": "e5f915ad",
   "metadata": {},
   "outputs": [
    {
     "data": {
      "text/plain": [
       "400"
      ]
     },
     "execution_count": 87,
     "metadata": {},
     "output_type": "execute_result"
    }
   ],
   "source": [
    "weather_df.to_sql(\"weather\", \n",
    "                  if_exists=\"append\", \n",
    "                  con=connection_string, \n",
    "                  index=False)"
   ]
  }
 ],
 "metadata": {
  "kernelspec": {
   "display_name": "Python 3",
   "language": "python",
   "name": "python3"
  },
  "language_info": {
   "codemirror_mode": {
    "name": "ipython",
    "version": 3
   },
   "file_extension": ".py",
   "mimetype": "text/x-python",
   "name": "python",
   "nbconvert_exporter": "python",
   "pygments_lexer": "ipython3",
   "version": "3.13.3"
  }
 },
 "nbformat": 4,
 "nbformat_minor": 5
}
